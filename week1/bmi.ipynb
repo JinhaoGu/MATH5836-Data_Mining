{
 "cells": [
  {
   "cell_type": "code",
   "execution_count": 84,
   "metadata": {},
   "outputs": [],
   "source": [
    "import numpy as np\n",
    "\n",
    "def BMI_save():\n",
    "    name,height, weight = input(\"Please input name,height(m),weight(kg) (eg: Alex,1.75,75). \").split(',')\n",
    "    height = float(height)\n",
    "    weight = float(weight)\n",
    "    bmi = weight/height**2\n",
    "#     print('%s: H:%sm, W:%skg, BMI: %.2f'%(name,height,weight,BMI))\n",
    "    name_dict= {}\n",
    "    name_dict['name'] = name\n",
    "    name_dict['height'] = height\n",
    "    name_dict['weight'] = weight\n",
    "    name_dict['bmi'] = bmi\n",
    "    return name_dict                                                                                     \n",
    "\n",
    "def BMI_print(nlist):\n",
    "    with open('summary.txt','w') as f:\n",
    "        for name in nlist:\n",
    "            print('Name:%s,\\tH:%.2fm,\\tW:%.1fkg,\\tBMI:%.2f'%(name['name'],name['height'],name['weight'],name['bmi']))\n",
    "            print('Name:%s,\\tH:%.2fm,\\tW:%.1fkg,\\tBMI:%.2f'%(name['name'],name['height'],name['weight'],name['bmi']),file = f)\n",
    "                                                                                                 \n",
    "                             \n",
    "\n",
    "                    \n",
    "def BMI_read(filepath):\n",
    "    bmi_list=[]\n",
    "    with open(filepath,'r') as f:\n",
    "        for item in f:\n",
    "            BMI = float(item.split(',')[-1].split(':')[-1].split('\\n')[0])\n",
    "            bmi_list.append(BMI)\n",
    "\n",
    "    mean = np.mean(bmi_list)\n",
    "    std = np.std(bmi_list)\n",
    "    \n",
    "    return mean,std\n",
    "    "
   ]
  },
  {
   "cell_type": "code",
   "execution_count": 86,
   "metadata": {},
   "outputs": [
    {
     "name": "stdout",
     "output_type": "stream",
     "text": [
      "BMI Calculator\n",
      "========================\n",
      "Please input the number of person: 1\n",
      "Please input name,height(m),weight(kg) (eg: Alex,1.75,75). mjmjmjm,1.25,23\n",
      "Name:mjmjmjm,\tH:1.25m,\tW:23.0kg,\tBMI:14.72\n",
      "BMI mean:14.720, BMI std:0.000\n"
     ]
    }
   ],
   "source": [
    "print(\"BMI Calculator\")\n",
    "print(\"========================\")\n",
    "num = int(input(\"Please input the number of person: \"))\n",
    "name_list = []\n",
    "for i in range(num):\n",
    "    name = BMI_save()\n",
    "    name_list.append(name)\n",
    "BMI_print(name_list) \n",
    "\n",
    "filepath = 'summary.txt'\n",
    "\n",
    "mean,std = BMI_read(filepath)\n",
    "print('BMI mean:%.3f, BMI std:%.3f'%(mean,std))\n",
    "\n",
    "     "
   ]
  },
  {
   "cell_type": "code",
   "execution_count": 78,
   "metadata": {},
   "outputs": [
    {
     "data": {
      "text/plain": [
       "0.0"
      ]
     },
     "execution_count": 78,
     "metadata": {},
     "output_type": "execute_result"
    }
   ],
   "source": [
    "bmi_list=[]\n",
    "with open(filepath,'r') as f:\n",
    "    for item in f:\n",
    "        BMI = float(item.split(',')[-1].split(':')[-1].split('\\n')[0])\n",
    "        bmi_list.append(BMI)\n",
    "\n",
    "mean = np.mean(bmi_list)\n",
    "std = np.std(bmi_list)"
   ]
  }
 ],
 "metadata": {
  "kernelspec": {
   "display_name": "Python 3",
   "language": "python",
   "name": "python3"
  },
  "language_info": {
   "codemirror_mode": {
    "name": "ipython",
    "version": 3
   },
   "file_extension": ".py",
   "mimetype": "text/x-python",
   "name": "python",
   "nbconvert_exporter": "python",
   "pygments_lexer": "ipython3",
   "version": "3.7.6"
  }
 },
 "nbformat": 4,
 "nbformat_minor": 4
}
