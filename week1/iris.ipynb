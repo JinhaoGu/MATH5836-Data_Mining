{
 "cells": [
  {
   "cell_type": "code",
   "execution_count": 487,
   "metadata": {},
   "outputs": [],
   "source": [
    "import numpy as np\n",
    "import matplotlib.pyplot as plt\n",
    "import random\n",
    "from numpy import *\n",
    "from sklearn.metrics import r2_score"
   ]
  },
  {
   "cell_type": "code",
   "execution_count": 749,
   "metadata": {},
   "outputs": [],
   "source": [
    "class dataset(): \n",
    "    \n",
    "    def __init__(self,data = None, label = None):\n",
    "        self.data = np.array(data,dtype = float)\n",
    "        self.label= label\n",
    "        self.reduced_label = []\n",
    "        self.bin_label = -1*np.ones(len(label))\n",
    "    def mean_(self):\n",
    "        mean = self.data.mean(0)\n",
    "        return mean\n",
    "    \n",
    "    def std_(self):\n",
    "        std = self.data.std(0)\n",
    "        return std\n",
    "    \n",
    "    def label_convert(self):\n",
    "        label_set = list(set(self.label))\n",
    "        for i in range(len(label_set)):\n",
    "            for en in self.label:\n",
    "                if label_set[i] == en:\n",
    "                    self.reduced_label.append(i)\n",
    "                else:\n",
    "                    continue\n",
    "        return self.reduced_label\n",
    "        \n",
    "    def genre_num(self):\n",
    "        class_distribution ={}\n",
    "        all_genre = set(self.label)\n",
    "        for item in all_genre:\n",
    "            class_distribution[item]=0\n",
    "            for en in self.label:\n",
    "                if en == item:\n",
    "                    class_distribution[en]+=1\n",
    "                else:\n",
    "                    continue    \n",
    "        return class_distribution\n",
    "    \n",
    "    def binary_label(self,target):\n",
    "#         if len(self.label)==0:\n",
    "#             self.reduced_label= self.label_convert()\n",
    "        \n",
    "        for e in range(len(self.label)):\n",
    "            if self.label[e] == target:\n",
    "                self.bin_label[e]=1\n",
    "            else:\n",
    "                continue\n",
    "        return self.bin_label\n",
    "                \n",
    "    \n",
    "    def split_set(self, scale):\n",
    "        if len(self.reduced_label)==0:\n",
    "            self.reduced_label= self.label_convert()\n",
    "        joint = list(zip(self.data,self.reduced_label))\n",
    "#         joint = list(zip(self.data,self.bin_label))\n",
    "        random.shuffle(joint) \n",
    "        \n",
    "        data_,label_ = zip(*joint)\n",
    "        \n",
    "        train = dataset(data= data_[0:int(scale*len(data_))],label=label_[0:int(scale*len(label_))])\n",
    "        \n",
    "        test = dataset(data= data_[int(scale*len(data_)):],label =label_[int(scale*len(label_)):])\n",
    "        \n",
    "        return train,test\n",
    "\n",
    "    def normalisation(self):\n",
    "        self.data = abs(self.data-self.mean_())**2 / (self.std_())**2    \n",
    "        return self.data\n",
    "    \n",
    "    \n",
    "        "
   ]
  },
  {
   "cell_type": "code",
   "execution_count": 766,
   "metadata": {},
   "outputs": [],
   "source": [
    "def get_data():\n",
    "    data=[]\n",
    "    label=[]\n",
    "    with open('iris.data','r') as f:\n",
    "        for item in f:\n",
    "            flower = item.split(',')\n",
    "            feature = flower[0:4]\n",
    "            genre = flower[-1].strip('\\n')\n",
    "            if len(feature) != 4:\n",
    "                continue\n",
    "            else:\n",
    "                data.append(feature)\n",
    "                label.append(genre)\n",
    "                \n",
    "    return data,label\n",
    "\n",
    "def figure_plot(all_data):\n",
    "    _,d = np.shape(all_data.data)\n",
    "    for i in range(d):\n",
    "        plt.hist(all_data.data[:,i], edgecolor='k', alpha=0.35) \n",
    "        plt.title('feature %d'%(i+1))\n",
    "        plt.grid(True)\n",
    "        plt.savefig('feature'+str(i)+'.jpg')\n",
    "        plt.show()\n",
    "\n",
    "def calc_rscore(p):\n",
    "    model = linear_mod()\n",
    "    model.fit(p,0.01,100)\n",
    "    w=model.w\n",
    "    b= model.b\n",
    "    x = p[:][0]\n",
    "    y = p[:][1]\n",
    "    y_pred = x.dot(w)+b\n",
    "    \n",
    "    return r2_score(y,y_pred)\n",
    "    \n",
    "def calc_mse(b,w,points):\n",
    "    totalError = 0\n",
    "    for i in range(0, len(points)):\n",
    "        x = points[:][0][i]\n",
    "        y = points[:][1][i]\n",
    "        totalError += (y - (w.dot(x) + b)) ** 2\n",
    "    \n",
    "    return totalError / float(len(points))\n",
    "\n",
    "def step_gradient(b_current, m_current, points, learningRate):\n",
    "    b = b_current\n",
    "    w = m_current\n",
    "    N,d = np.shape(points[:][0])\n",
    "    w_grad = np.zeros([d])\n",
    "    b_grad = 0\n",
    "    for i in range(len(points[:][1])):\n",
    "        x = points[:][0][i]\n",
    "        y = points[:][1][i] \n",
    "        w_grad += -(2/N)*(y- (w.dot(x)+b))*x\n",
    "        b_grad += -(2/N)*(y- (w.dot(x)+b))\n",
    "\n",
    "    new_w = w -(learningRate * w_grad)\n",
    "    new_b = b -(learningRate * b_grad)\n",
    "\n",
    "    return new_w,new_b\n",
    "\n",
    "def gradient_descent(points, starting_b, starting_m, learning_rate, num_iterations):\n",
    "    b = starting_b\n",
    "    w = starting_m\n",
    "\n",
    "    for i in range(num_iterations):\n",
    "        w, b = step_gradient(b, w, points, learning_rate)              \n",
    "\n",
    "         \n",
    "    return w,b\n",
    "\n",
    "\n",
    "def calc_acc(model,data):\n",
    "    w = model.w\n",
    "    b = model.b\n",
    "    x = data[:][0]\n",
    "    y = data[:][1]\n",
    "    y_ = x.dot(w)+b\n",
    "    \n",
    "    accuracy=sum(np.where(y_>= 0,1,-1)==y)/len(y)\n",
    "    return accuracy\n",
    "    \n",
    "    \n"
   ]
  },
  {
   "cell_type": "code",
   "execution_count": 658,
   "metadata": {},
   "outputs": [],
   "source": [
    "class linear_mod():\n",
    "    def __init__(self,w=0,b =0):\n",
    "        self.w =w\n",
    "        self.b =b \n",
    "        \n",
    "    def fit(self,p,lr,num_iter):\n",
    "        N,d = np.shape(p[:][0])\n",
    "        self.w,self.b= gradient_descent(p,0,np.zeros(d), lr, num_iter)\n",
    "        \n",
    "        return self.w,self.b\n",
    "        "
   ]
  },
  {
   "cell_type": "markdown",
   "metadata": {},
   "source": [
    "# Exercise1 "
   ]
  },
  {
   "cell_type": "code",
   "execution_count": 750,
   "metadata": {},
   "outputs": [
    {
     "name": "stdout",
     "output_type": "stream",
     "text": [
      "0.9053068619706772\n",
      "0.5592104338400135\n",
      "0.783754754179762\n"
     ]
    }
   ],
   "source": [
    "\n",
    "data_,label_ = get_data()\n",
    "all_data = dataset(data =data_,label= label_ )\n",
    "all_data.label_convert()\n",
    "\n",
    "\n",
    "p = [all_data.data[:,[0,2]],all_data.reduced_label]\n",
    "\n",
    "score_1_3= calc_rscore([all_data.data[:,[0,2]],all_data.reduced_label])\n",
    "score_1_2= calc_rscore([all_data.data[:,[0,1]],all_data.reduced_label])\n",
    "score_1_4= calc_rscore([all_data.data[:,[0,3]],all_data.reduced_label])\n",
    "\n",
    "print(score_1_3)\n",
    "print(score_1_2)\n",
    "print(score_1_4)"
   ]
  },
  {
   "cell_type": "code",
   "execution_count": 593,
   "metadata": {},
   "outputs": [
    {
     "data": {
      "text/plain": [
       "[]"
      ]
     },
     "execution_count": 593,
     "metadata": {},
     "output_type": "execute_result"
    }
   ],
   "source": [
    "y = p[:][]\n",
    "y"
   ]
  },
  {
   "cell_type": "markdown",
   "metadata": {},
   "source": [
    "# Exercise2"
   ]
  },
  {
   "cell_type": "code",
   "execution_count": 787,
   "metadata": {},
   "outputs": [
    {
     "data": {
      "text/plain": [
       "(array([1., 0., 2., 3., 2., 4., 7., 8., 2., 1.]),\n",
       " array([0.2       , 0.22166667, 0.24333333, 0.265     , 0.28666667,\n",
       "        0.30833333, 0.33      , 0.35166667, 0.37333333, 0.395     ,\n",
       "        0.41666667]),\n",
       " <BarContainer object of 10 artists>)"
      ]
     },
     "execution_count": 787,
     "metadata": {},
     "output_type": "execute_result"
    },
    {
     "data": {
      "image/png": "[encoded data removed]",
      "text/plain": [
       "<Figure size 432x288 with 1 Axes>"
      ]
     },
     "metadata": {
      "needs_background": "light"
     },
     "output_type": "display_data"
    }
   ],
   "source": [
    "# Without normalise\n",
    "Accuracy=[]\n",
    "for i in range(30):\n",
    "    train_set ,test_set = all_data.split_set(0.6)\n",
    "\n",
    "    linear = linear_mod()\n",
    "    linear.fit([train_set.data,train_set.binary_label(0)],0.1,100)\n",
    "\n",
    "    calc_acc(linear,[test_set.data,test_set.binary_label(0)])\n",
    "\n",
    "    Accuracy.append(calc_acc(linear,[test_set.data,test_set.binary_label(0)]))\n",
    "\n",
    "plt.hist(Accuracy)"
   ]
  },
  {
   "cell_type": "code",
   "execution_count": 788,
   "metadata": {},
   "outputs": [
    {
     "data": {
      "text/plain": [
       "(array([1., 2., 1., 2., 1., 3., 3., 4., 7., 6.]),\n",
       " array([0.53333333, 0.57666667, 0.62      , 0.66333333, 0.70666667,\n",
       "        0.75      , 0.79333333, 0.83666667, 0.88      , 0.92333333,\n",
       "        0.96666667]),\n",
       " <BarContainer object of 10 artists>)"
      ]
     },
     "execution_count": 788,
     "metadata": {},
     "output_type": "execute_result"
    },
    {
     "data": {
      "image/png": "[encoded data removed]",
      "text/plain": [
       "<Figure size 432x288 with 1 Axes>"
      ]
     },
     "metadata": {
      "needs_background": "light"
     },
     "output_type": "display_data"
    }
   ],
   "source": [
    "Accuracy=[]\n",
    "for i in range(30):\n",
    "    train_set ,test_set = all_data.split_set(0.6)\n",
    "    train_set.normalisation()\n",
    "    test_set.normalisation()\n",
    "    linear = linear_mod()\n",
    "    linear.fit([train_set.data,train_set.binary_label(0)],0.1,100)\n",
    "    Accuracy.append(calc_acc(linear,[test_set.data,test_set.binary_label(0)]))\n",
    "\n",
    "plt.hist(Accuracy)\n",
    "# print(train_set.data)\n",
    "# print('==================')\n",
    "# # train_set.normalisation()\n",
    "# print(train_set.normalisation())"
   ]
  },
  {
   "cell_type": "markdown",
   "metadata": {},
   "source": [
    "# Exercise3 "
   ]
  },
  {
   "cell_type": "code",
   "execution_count": 769,
   "metadata": {},
   "outputs": [
    {
     "data": {
      "text/plain": [
       "(array([2., 0., 3., 5., 2., 7., 2., 5., 1., 3.]),\n",
       " array([0.87503923, 0.87964849, 0.88425776, 0.88886702, 0.89347629,\n",
       "        0.89808556, 0.90269482, 0.90730409, 0.91191335, 0.91652262,\n",
       "        0.92113189]),\n",
       " <BarContainer object of 10 artists>)"
      ]
     },
     "execution_count": 769,
     "metadata": {},
     "output_type": "execute_result"
    },
    {
     "data": {
      "image/png": "[encoded data removed]",
      "text/plain": [
       "<Figure size 432x288 with 1 Axes>"
      ]
     },
     "metadata": {
      "needs_background": "light"
     },
     "output_type": "display_data"
    }
   ],
   "source": [
    "#without normalisation\n",
    "Rscore = []\n",
    "for i in range(30):\n",
    "    train_set ,test_set = all_data.split_set(0.6)\n",
    "    score = calc_rscore([train_set.data,train_set.binary_label(0)])\n",
    "    Rscore.append(score)\n",
    "    \n",
    "plt.hist(Rscore)    "
   ]
  },
  {
   "cell_type": "code",
   "execution_count": 771,
   "metadata": {},
   "outputs": [
    {
     "data": {
      "text/plain": [
       "(array([5., 3., 2., 3., 5., 3., 4., 3., 0., 2.]),\n",
       " array([0.16323988, 0.19822958, 0.23321927, 0.26820897, 0.30319867,\n",
       "        0.33818836, 0.37317806, 0.40816775, 0.44315745, 0.47814715,\n",
       "        0.51313684]),\n",
       " <BarContainer object of 10 artists>)"
      ]
     },
     "execution_count": 771,
     "metadata": {},
     "output_type": "execute_result"
    },
    {
     "data": {
      "image/png": "[encoded data removed]",
      "text/plain": [
       "<Figure size 432x288 with 1 Axes>"
      ]
     },
     "metadata": {
      "needs_background": "light"
     },
     "output_type": "display_data"
    }
   ],
   "source": [
    "#With normalisation\n",
    "Rscore = []\n",
    "for i in range(30):\n",
    "    train_set ,test_set = all_data.split_set(0.6)\n",
    "    score = calc_rscore([train_set.normalisation(),train_set.binary_label(0)])\n",
    "    Rscore.append(score)\n",
    "    \n",
    "plt.hist(Rscore) "
   ]
  },
  {
   "cell_type": "code",
   "execution_count": 765,
   "metadata": {},
   "outputs": [
    {
     "data": {
      "text/plain": [
       "2"
      ]
     },
     "execution_count": 765,
     "metadata": {},
     "output_type": "execute_result"
    }
   ],
   "source": []
  }
 ],
 "metadata": {
  "kernelspec": {
   "display_name": "Python 3",
   "language": "python",
   "name": "python3"
  },
  "language_info": {
   "codemirror_mode": {
    "name": "ipython",
    "version": 3
   },
   "file_extension": ".py",
   "mimetype": "text/x-python",
   "name": "python",
   "nbconvert_exporter": "python",
   "pygments_lexer": "ipython3",
   "version": "3.7.6"
  }
 },
 "nbformat": 4,
 "nbformat_minor": 4
}
